{
  "nbformat": 4,
  "nbformat_minor": 0,
  "metadata": {
    "colab": {
      "provenance": [],
      "toc_visible": true,
      "include_colab_link": true
    },
    "kernelspec": {
      "name": "python3",
      "display_name": "Python 3"
    },
    "language_info": {
      "name": "python"
    }
  },
  "cells": [
    {
      "cell_type": "markdown",
      "metadata": {
        "id": "view-in-github",
        "colab_type": "text"
      },
      "source": [
        "<a href=\"https://colab.research.google.com/github/bild12/EspIA/blob/main/Unidad2_2_EstrategiasBusqueda.ipynb\" target=\"_parent\"><img src=\"https://colab.research.google.com/assets/colab-badge.svg\" alt=\"Open In Colab\"/></a>"
      ]
    },
    {
      "cell_type": "markdown",
      "metadata": {
        "id": "hvT4Ovs236eK"
      },
      "source": [
        "# Estrategias de búsqueda en el espacio-problema"
      ]
    },
    {
      "cell_type": "markdown",
      "metadata": {
        "id": "O1oW_uk34RWE"
      },
      "source": [
        "En este cuaderno se practicará el uso de las diferentes estrategias de búsqueda a partir de un ejemplo guiado.\n",
        "\n",
        "El ejemplo guiado está basado en la implementación hecha por Daniel Connelly, que se puede consultar en https://dhconnelly.com/paip-python/docs/paip/search.html."
      ]
    },
    {
      "cell_type": "markdown",
      "metadata": {
        "id": "wetHHk0QPeIC"
      },
      "source": [
        "## Implementación de búsquedas"
      ]
    },
    {
      "cell_type": "markdown",
      "metadata": {
        "id": "tSymjdWVQzA1"
      },
      "source": [
        "**Caso base (general)**\n",
        "\n",
        "Dados unos estados iniciales, la idea es explorar el espacio de estados hasta alcanzar la meta esperada. Para esto, se definirá una función que toma los siguientes elementos:\n",
        "*   `estados`, lista de estados iniciales\n",
        "*   `meta_alcanzada`, un predicado que al evaluarse en un estado particular retorna verdadero (`True`) si el estado corresponde a la meta deseada.\n",
        "*   `obtener_descendientes`, una función que al tomar un estado como entrada retorna una lista de los estados descendientes.\n",
        "*   `combinar_estados`, una función que toma dos listas de estados (estados actuales y nuevos estados) y retorna una lista combinada de estados.\n",
        "\n",
        "De forma básica, genera un recorrido recurrente a partir de una lista de estados que se establece usando los descendientes de cada uno."
      ]
    },
    {
      "cell_type": "code",
      "metadata": {
        "id": "MyQEabGmStMF"
      },
      "source": [
        "def busqueda_arbol(estados, meta_alcanzada, obtener_descendientes, combinar_estados):\n",
        "  if not estados:\n",
        "    return None\n",
        "  if meta_alcanzada(estados[0]):\n",
        "    return estados[0]\n",
        "\n",
        "  descendientes = obtener_descendientes(estados[0])\n",
        "  siguientes = combinar_estados(descendientes, estados[1:])\n",
        "\n",
        "  return busqueda_arbol(siguientes, meta_alcanzada, obtener_descendientes, combinar_estados)"
      ],
      "execution_count": null,
      "outputs": []
    },
    {
      "cell_type": "markdown",
      "metadata": {
        "id": "o72F_9TaPxi7"
      },
      "source": [
        "**Búsqueda en profundidad (DFS)**\n",
        "\n",
        "Todos los descendientes de un único estado son explorados totalmente antes de pasar a un estado hermano. Se utiliza una lista de estados, que se van agregando en una estructura que funciona como una pila (último que entre primero que sale)."
      ]
    },
    {
      "cell_type": "code",
      "metadata": {
        "id": "HcggIo-4QV4K"
      },
      "source": [
        "def dfs(inicio, meta_alcanzada, obtener_descendientes):\n",
        "\n",
        "  def combinar(nuevos_estados, estados_existentes):\n",
        "    return nuevos_estados + estados_existentes\n",
        "\n",
        "  return busqueda_arbol([inicio], meta_alcanzada, obtener_descendientes, combinar)"
      ],
      "execution_count": null,
      "outputs": []
    },
    {
      "cell_type": "markdown",
      "metadata": {
        "id": "tWRmizBPTUH9"
      },
      "source": [
        "**Búsqueda en anchura (BFS)**\n",
        "\n",
        "Al examinar un único estado, todos sus descendientes deben revisarse antes de explorar alguno de los descendientes de ellos. En la lista de estados, los nuevos estados se agregan luego de los actuales, funcionando como una cola (primero que entra primero que sale)."
      ]
    },
    {
      "cell_type": "code",
      "metadata": {
        "id": "NzFxd7PEUF1X"
      },
      "source": [
        "def bfs(inicio, meta_alcanzada, obtener_descendientes):\n",
        "\n",
        "  def combinar(nuevos_estados, estados_existentes):\n",
        "    return estados_existentes + nuevos_estados\n",
        "\n",
        "  return busqueda_arbol([inicio], meta_alcanzada, obtener_descendientes, combinar)"
      ],
      "execution_count": null,
      "outputs": []
    },
    {
      "cell_type": "markdown",
      "metadata": {
        "id": "vI-AC62HVXBE"
      },
      "source": [
        "**Búsqueda Best-First**\n",
        "\n",
        "En esta búsqueda, el espacio de estados se explora de acuerdo a un costo calculado. Es decir, el estado de menor costo es el siguiente a explorar. Se requiere una función que permita calcular el costo (numérico) para un estado dado."
      ]
    },
    {
      "cell_type": "code",
      "metadata": {
        "id": "QHmZdWQuVzYM"
      },
      "source": [
        "def busq_best_first(inicio, meta_alcanzada, obtener_descendientes, costo):\n",
        "\n",
        "  def combinar(nuevos_estados, estados_existentes):\n",
        "    return sorted(nuevos_estados + estados_existentes, key=costo)\n",
        "\n",
        "  return busqueda_arbol([inicio], meta_alcanzada, obtener_descendientes, combinar)"
      ],
      "execution_count": null,
      "outputs": []
    },
    {
      "cell_type": "markdown",
      "metadata": {
        "id": "zVvOHhYkXWqL"
      },
      "source": [
        "## Definición del problema"
      ]
    },
    {
      "cell_type": "markdown",
      "metadata": {
        "id": "9nu44LiCXbdF"
      },
      "source": [
        "Una vez definidas las posibles búsquedas a utilizar, es necesario implementar la definición de los elementos identificados en el espacio-problema (estados posibles, estado inicial y final, acciones y operadores). Se utilizarán algunas funciones que ayudarán con la exploración del espacio de estados, y luego se definirá el problema con todos sus detalles."
      ]
    },
    {
      "cell_type": "code",
      "metadata": {
        "id": "ysuI5_pJuFrX"
      },
      "source": [
        "def descendientes(estados, operadores):\n",
        "    ret = []\n",
        "    for op in operadores_aplicables(estados, operadores):\n",
        "        ret.append([e for e in estados if e not in op['quitar']] + op['agregar'])\n",
        "    return ret\n",
        "\n",
        "def operadores_aplicables(estados, operadores):\n",
        "    estados = set(estados)\n",
        "    return [op for op in operadores if set(op['preconds']) <= estados]\n",
        "\n",
        "def resolver_problema(estados_iniciales, estados_objetivo, operadores, metodo):\n",
        "    prefijo = 'Ejecutando '\n",
        "    for operador in operadores:\n",
        "        operador['agregar'].append(prefijo + operador['accion'])\n",
        "\n",
        "    def obtener_descendientes(estados):\n",
        "        return descendientes(estados, operadores)\n",
        "\n",
        "    def meta_alcanzada(estados):\n",
        "        for meta in estados_objetivo:\n",
        "            if meta not in estados:\n",
        "                return False\n",
        "        return True\n",
        "\n",
        "    def costo(estados):\n",
        "        sum = len([e for e in estados if e.startswith(prefijo)])\n",
        "        sum += len([m for m in estados_objetivo if m not in estados])\n",
        "        return sum\n",
        "\n",
        "    if metodo is busq_best_first:\n",
        "        final = metodo(estados_iniciales, meta_alcanzada, obtener_descendientes, costo)\n",
        "    else:\n",
        "        final = metodo(estados_iniciales, meta_alcanzada, obtener_descendientes)\n",
        "    return [estado for estado in final if estado.startswith(prefijo)]\n"
      ],
      "execution_count": null,
      "outputs": []
    },
    {
      "cell_type": "markdown",
      "metadata": {
        "id": "kL6Uby-lHbOD"
      },
      "source": [
        "Una vez implementados todos los elementos necesarios, pasemos a la definición formal del problema a resolver. En este caso, trabajaremos con un problema de apilamiento de bloques, en donde se busca acomodar los bloques desde una configuración inicial hasta un objetivo específico. Cada bloque sólo puede tener otro bloque encima de él, aunque pueden apilarse hasta una altura arbitraria. La única acción que puede realizarse es mover un único bloque que no tiene nada encima, para ponerlo encima de otro bloque o encima de la mesa de trabajo. En particular, se espera resolver la siguiente configuración:\n",
        "\n",
        "![u04-04.jpg](data:image/jpeg;base64,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)\n",
        "\n",
        "A continuación, se definirán los elementos del problema de forma que puedan ser utilizados por la implementación ya realizada para proponer una posible solución."
      ]
    },
    {
      "cell_type": "code",
      "metadata": {
        "id": "hVDy3IYBI8SC"
      },
      "source": [
        "def main():\n",
        "  inicio = [\"vacio sobre A\", \"A sobre B\", \"B sobre C\", \"C sobre mesa\", \"vacio sobre mesa\"]\n",
        "  meta = [\"vacio sobre C\", \"C sobre B\", \"B sobre A\", \"A sobre mesa\", \"vacio sobre mesa\"]\n",
        "  operaciones = [\n",
        "        {\n",
        "            \"accion\": \"mover A de B a C\",\n",
        "            \"preconds\": [\n",
        "                \"vacio sobre A\",\n",
        "                \"vacio sobre C\",\n",
        "                \"A sobre B\"\n",
        "            ],\n",
        "            \"agregar\": [\n",
        "                \"A sobre C\",\n",
        "                \"vacio sobre B\"\n",
        "            ],\n",
        "            \"quitar\": [\n",
        "                \"A sobre B\",\n",
        "                \"vacio sobre C\"\n",
        "            ]\n",
        "        },\n",
        "        {\n",
        "            \"accion\": \"mover A de mesa a B\",\n",
        "            \"preconds\": [\n",
        "                \"vacio sobre A\",\n",
        "                \"vacio sobre B\",\n",
        "                \"A sobre mesa\"\n",
        "            ],\n",
        "            \"agregar\": [\n",
        "                \"A sobre B\"\n",
        "            ],\n",
        "            \"quitar\": [\n",
        "                \"A sobre mesa\",\n",
        "                \"vacio sobre B\"\n",
        "            ]\n",
        "        },\n",
        "        {\n",
        "            \"accion\": \"mover A de B a mesa\",\n",
        "            \"preconds\": [\n",
        "                \"vacio sobre A\",\n",
        "                \"vacio sobre mesa\",\n",
        "                \"A sobre B\"\n",
        "            ],\n",
        "            \"agregar\": [\n",
        "                \"A sobre mesa\",\n",
        "                \"vacio sobre B\"\n",
        "            ],\n",
        "            \"quitar\": [\n",
        "                \"A sobre B\"\n",
        "            ]\n",
        "        },\n",
        "        {\n",
        "            \"accion\": \"mover A de C a B\",\n",
        "            \"preconds\": [\n",
        "                \"vacio sobre A\",\n",
        "                \"vacio sobre B\",\n",
        "                \"A sobre C\"\n",
        "            ],\n",
        "            \"agregar\": [\n",
        "                \"A sobre B\",\n",
        "                \"vacio sobre C\"\n",
        "            ],\n",
        "            \"quitar\": [\n",
        "                \"A sobre C\",\n",
        "                \"vacio sobre B\"\n",
        "            ]\n",
        "        },\n",
        "        {\n",
        "            \"accion\": \"mover A de mesa a C\",\n",
        "            \"preconds\": [\n",
        "                \"vacio sobre A\",\n",
        "                \"vacio sobre C\",\n",
        "                \"A sobre mesa\"\n",
        "            ],\n",
        "            \"agregar\": [\n",
        "                \"A sobre C\"\n",
        "            ],\n",
        "            \"quitar\": [\n",
        "                \"A sobre mesa\",\n",
        "                \"vacio sobre C\"\n",
        "            ]\n",
        "        },\n",
        "        {\n",
        "            \"accion\": \"mover A de C a mesa\",\n",
        "            \"preconds\": [\n",
        "                \"vacio sobre A\",\n",
        "                \"vacio sobre mesa\",\n",
        "                \"A sobre C\"\n",
        "            ],\n",
        "            \"agregar\": [\n",
        "                \"A sobre mesa\",\n",
        "                \"vacio sobre C\"\n",
        "            ],\n",
        "            \"quitar\": [\n",
        "                \"A sobre C\"\n",
        "            ]\n",
        "        },\n",
        "        {\n",
        "            \"accion\": \"mover B de A a C\",\n",
        "            \"preconds\": [\n",
        "                \"vacio sobre B\",\n",
        "                \"vacio sobre C\",\n",
        "                \"B sobre A\"\n",
        "            ],\n",
        "            \"agregar\": [\n",
        "                \"B sobre C\",\n",
        "                \"vacio sobre A\"\n",
        "            ],\n",
        "            \"quitar\": [\n",
        "                \"B sobre A\",\n",
        "                \"vacio sobre C\"\n",
        "            ]\n",
        "        },\n",
        "        {\n",
        "            \"accion\": \"mover B de mesa a A\",\n",
        "            \"preconds\": [\n",
        "                \"vacio sobre B\",\n",
        "                \"vacio sobre A\",\n",
        "                \"B sobre mesa\"\n",
        "            ],\n",
        "            \"agregar\": [\n",
        "                \"B sobre A\"\n",
        "            ],\n",
        "            \"quitar\": [\n",
        "                \"B sobre mesa\",\n",
        "                \"vacio sobre A\"\n",
        "            ]\n",
        "        },\n",
        "        {\n",
        "            \"accion\": \"mover B de A a mesa\",\n",
        "            \"preconds\": [\n",
        "                \"vacio sobre B\",\n",
        "                \"vacio sobre mesa\",\n",
        "                \"B sobre A\"\n",
        "            ],\n",
        "            \"agregar\": [\n",
        "                \"B sobre mesa\",\n",
        "                \"vacio sobre A\"\n",
        "            ],\n",
        "            \"quitar\": [\n",
        "                \"B sobre A\"\n",
        "            ]\n",
        "        },\n",
        "        {\n",
        "            \"accion\": \"mover B de C a A\",\n",
        "            \"preconds\": [\n",
        "                \"vacio sobre B\",\n",
        "                \"vacio sobre A\",\n",
        "                \"B sobre C\"\n",
        "            ],\n",
        "            \"agregar\": [\n",
        "                \"B sobre A\",\n",
        "                \"vacio sobre C\"\n",
        "            ],\n",
        "            \"quitar\": [\n",
        "                \"B sobre C\",\n",
        "                \"vacio sobre A\"\n",
        "            ]\n",
        "        },\n",
        "        {\n",
        "            \"accion\": \"mover B de mesa a C\",\n",
        "            \"preconds\": [\n",
        "                \"vacio sobre B\",\n",
        "                \"vacio sobre C\",\n",
        "                \"B sobre mesa\"\n",
        "            ],\n",
        "            \"agregar\": [\n",
        "                \"B sobre C\"\n",
        "            ],\n",
        "            \"quitar\": [\n",
        "                \"B sobre mesa\",\n",
        "                \"vacio sobre C\"\n",
        "            ]\n",
        "        },\n",
        "        {\n",
        "            \"accion\": \"mover B de C a mesa\",\n",
        "            \"preconds\": [\n",
        "                \"vacio sobre B\",\n",
        "                \"vacio sobre mesa\",\n",
        "                \"B sobre C\"\n",
        "            ],\n",
        "            \"agregar\": [\n",
        "                \"B sobre mesa\",\n",
        "                \"vacio sobre C\"\n",
        "            ],\n",
        "            \"quitar\": [\n",
        "                \"B sobre C\"\n",
        "            ]\n",
        "        },\n",
        "        {\n",
        "            \"accion\": \"mover C de A a B\",\n",
        "            \"preconds\": [\n",
        "                \"vacio sobre C\",\n",
        "                \"vacio sobre B\",\n",
        "                \"C sobre A\"\n",
        "            ],\n",
        "            \"agregar\": [\n",
        "                \"C sobre B\",\n",
        "                \"vacio sobre A\"\n",
        "            ],\n",
        "            \"quitar\": [\n",
        "                \"C sobre A\",\n",
        "                \"vacio sobre B\"\n",
        "            ]\n",
        "        },\n",
        "        {\n",
        "            \"accion\": \"mover C de mesa a A\",\n",
        "            \"preconds\": [\n",
        "                \"vacio sobre C\",\n",
        "                \"vacio sobre A\",\n",
        "                \"C sobre mesa\"\n",
        "            ],\n",
        "            \"agregar\": [\n",
        "                \"C sobre A\"\n",
        "            ],\n",
        "            \"quitar\": [\n",
        "                \"C sobre mesa\",\n",
        "                \"vacio sobre A\"\n",
        "            ]\n",
        "        },\n",
        "        {\n",
        "            \"accion\": \"mover C de A a mesa\",\n",
        "            \"preconds\": [\n",
        "                \"vacio sobre C\",\n",
        "                \"vacio sobre mesa\",\n",
        "                \"C sobre A\"\n",
        "            ],\n",
        "            \"agregar\": [\n",
        "                \"C sobre mesa\",\n",
        "                \"mesa sobre A\"\n",
        "            ],\n",
        "            \"quitar\": [\n",
        "                \"C sobre A\"\n",
        "            ]\n",
        "        },\n",
        "        {\n",
        "            \"accion\": \"mover C de B a A\",\n",
        "            \"preconds\": [\n",
        "                \"vacio sobre C\",\n",
        "                \"vacio sobre A\",\n",
        "                \"C sobre B\"\n",
        "            ],\n",
        "            \"agregar\": [\n",
        "                \"C sobre A\",\n",
        "                \"vacio sobre B\"\n",
        "            ],\n",
        "            \"quitar\": [\n",
        "                \"C sobre B\",\n",
        "                \"vacio sobre A\"\n",
        "            ]\n",
        "        },\n",
        "        {\n",
        "            \"accion\": \"mover C de mesa a B\",\n",
        "            \"preconds\": [\n",
        "                \"vacio sobre C\",\n",
        "                \"vacio sobre B\",\n",
        "                \"C sobre mesa\"\n",
        "            ],\n",
        "            \"agregar\": [\n",
        "                \"C sobre B\"\n",
        "            ],\n",
        "            \"quitar\": [\n",
        "                \"C sobre mesa\",\n",
        "                \"vacio sobre B\"\n",
        "            ]\n",
        "        },\n",
        "        {\n",
        "            \"accion\": \"mover C de B a mesa\",\n",
        "            \"preconds\": [\n",
        "                \"vacio sobre C\",\n",
        "                \"vacio sobre mesa\",\n",
        "                \"C sobre B\"\n",
        "            ],\n",
        "            \"agregar\": [\n",
        "                \"C sobre mesa\",\n",
        "                \"vacio sobre B\"\n",
        "            ],\n",
        "            \"quitar\": [\n",
        "                \"C sobre B\"\n",
        "            ]\n",
        "        }\n",
        "    ]\n",
        "  #print(\"Resolviendo con profundidad: \")\n",
        "  #for accion in resolver_problema(inicio, meta, operaciones, dfs):\n",
        "  #  print(accion)\n",
        "\n",
        "  print(\"Resolviendo con anchura: \")\n",
        "  for accion in resolver_problema(inicio, meta, operaciones, bfs):\n",
        "    print(accion)\n",
        "\n",
        "  print(\"Resolviendo con Best-First: \")\n",
        "  for accion in resolver_problema(inicio, meta, operaciones, busq_best_first):\n",
        "    print(accion)"
      ],
      "execution_count": null,
      "outputs": []
    },
    {
      "cell_type": "markdown",
      "metadata": {
        "id": "JH6wN5LMPO1o"
      },
      "source": [
        "Ahora, vamos a ejecutarlo para utilizar las diferentes búsquedas y así encontrar una posible solución al problema de apilar bloques."
      ]
    },
    {
      "cell_type": "code",
      "metadata": {
        "colab": {
          "base_uri": "https://localhost:8080/"
        },
        "id": "jE2cvMjgQBnq",
        "outputId": "f79d524b-798f-4d04-a603-f44a9abf9de9"
      },
      "source": [
        "main()"
      ],
      "execution_count": null,
      "outputs": [
        {
          "output_type": "stream",
          "text": [
            "Resolviendo con anchura: \n",
            "Ejecutando mover A de B a mesa\n",
            "Ejecutando mover B de C a A\n",
            "Ejecutando mover C de mesa a B\n",
            "Resolviendo con Best-First: \n",
            "Ejecutando mover A de B a mesa\n",
            "Ejecutando mover A de B a mesa\n",
            "Ejecutando mover B de C a A\n",
            "Ejecutando mover B de C a A\n",
            "Ejecutando mover C de mesa a B\n",
            "Ejecutando mover C de mesa a B\n"
          ],
          "name": "stdout"
        }
      ]
    }
  ]
}